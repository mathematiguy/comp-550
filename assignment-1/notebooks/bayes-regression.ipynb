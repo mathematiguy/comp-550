{
 "cells": [
  {
   "cell_type": "markdown",
   "metadata": {},
   "source": [
    "# Bayes regression\n",
    "\n",
    "Now that we have trials.csv, we want to run a bayesian regression that will tell us which hyperparameters are the most useful for improving the model."
   ]
  },
  {
   "cell_type": "code",
   "execution_count": 1,
   "metadata": {},
   "outputs": [
    {
     "ename": "ModuleNotFoundError",
     "evalue": "No module named 'pymc3'",
     "output_type": "error",
     "traceback": [
      "\u001b[0;31m---------------------------------------------------------------------------\u001b[0m",
      "\u001b[0;31mModuleNotFoundError\u001b[0m                       Traceback (most recent call last)",
      "\u001b[0;32m<ipython-input-1-ee20057c0e61>\u001b[0m in \u001b[0;36m<module>\u001b[0;34m\u001b[0m\n\u001b[0;32m----> 1\u001b[0;31m \u001b[0;32mimport\u001b[0m \u001b[0mpymc3\u001b[0m \u001b[0;32mas\u001b[0m \u001b[0mpm\u001b[0m\u001b[0;34m\u001b[0m\u001b[0;34m\u001b[0m\u001b[0m\n\u001b[0m\u001b[1;32m      2\u001b[0m \u001b[0;32mimport\u001b[0m \u001b[0mnumpy\u001b[0m \u001b[0;32mas\u001b[0m \u001b[0mnp\u001b[0m\u001b[0;34m\u001b[0m\u001b[0;34m\u001b[0m\u001b[0m\n\u001b[1;32m      3\u001b[0m \u001b[0;34m\u001b[0m\u001b[0m\n\u001b[1;32m      4\u001b[0m \u001b[0;32mwith\u001b[0m \u001b[0mpm\u001b[0m\u001b[0;34m.\u001b[0m\u001b[0mModel\u001b[0m\u001b[0;34m(\u001b[0m\u001b[0;34m)\u001b[0m \u001b[0;32mas\u001b[0m \u001b[0mhyperparam_model\u001b[0m\u001b[0;34m:\u001b[0m\u001b[0;34m\u001b[0m\u001b[0;34m\u001b[0m\u001b[0m\n\u001b[1;32m      5\u001b[0m     \u001b[0;31m# Bernoulli priors for the binary hyperparameters\u001b[0m\u001b[0;34m\u001b[0m\u001b[0;34m\u001b[0m\u001b[0;34m\u001b[0m\u001b[0m\n",
      "\u001b[0;31mModuleNotFoundError\u001b[0m: No module named 'pymc3'"
     ]
    }
   ],
   "source": [
    "import pymc3 as pm\n",
    "import numpy as np\n",
    "\n",
    "with pm.Model() as hyperparam_model:\n",
    "    # Bernoulli priors for the binary hyperparameters\n",
    "    lemmatization = pm.Bernoulli('lemmatization', 0.5)\n",
    "    stopword_removal = pm.Bernoulli('stopword_removal', 0.5)\n",
    "    stemming = pm.Bernoulli('stemming', 0.5)\n",
    "    treebank_pos = pm.Bernoulli('treebank_pos', 0.5)\n",
    "    \n",
    "    # Categorical prior for n-grams\n",
    "    n_grams = pm.Categorical('n-grams', np.ones(5)/5)  # Flat prior over the categories 1-5\n",
    "    \n",
    "    # Lognormal prior for vocab_limit with specified properties\n",
    "    mu = np.log(500)\n",
    "    sigma = np.log(1300/500)\n",
    "    vocab_limit = pm.Lognormal('vocab_limit', mu=mu, sd=sigma)\n",
    "    \n",
    "    # The linear model for accuracy\n",
    "    intercept = pm.Normal('Intercept', mu=0.5, sd=0.5)\n",
    "    \n",
    "    # Using observed data for each experiment to link the hyperparameters to the observed accuracy\n",
    "    mu = (intercept + \n",
    "          lemmatization*trial_df['lemmatization'] + \n",
    "          stopword_removal*trial_df['stopword_removal'] +\n",
    "          n_grams*trial_df['n-grams'] +\n",
    "          stemming*trial_df['stemming'] +\n",
    "          treebank_pos*trial_df['treebank_pos'] +\n",
    "          vocab_limit*trial_df['vocab_limit'])\n",
    "    \n",
    "    sigma = pm.HalfNormal('sigma', sd=0.1)\n",
    "    observed_accuracy = pm.Normal('observed_accuracy', mu=mu, sd=sigma, observed=trial_df['accuracy'])\n",
    "    \n",
    "    # Sample from the posterior\n",
    "    trace = pm.sample(2000, tune=1000, chains=2)\n",
    "\n",
    "# Display the summary\n",
    "print(pm.summary(trace).round(2))\n",
    "\n",
    "# Visualization\n",
    "pm.plot_posterior(trace, var_names=['lemmatization', 'stopword_removal', 'n-grams', 'stemming', 'treebank_pos', 'vocab_limit']);\n"
   ]
  },
  {
   "cell_type": "code",
   "execution_count": null,
   "metadata": {},
   "outputs": [],
   "source": []
  }
 ],
 "metadata": {
  "kernelspec": {
   "display_name": "Python 3 (ipykernel)",
   "language": "python",
   "name": "python3"
  },
  "language_info": {
   "codemirror_mode": {
    "name": "ipython",
    "version": 3
   },
   "file_extension": ".py",
   "mimetype": "text/x-python",
   "name": "python",
   "nbconvert_exporter": "python",
   "pygments_lexer": "ipython3",
   "version": "3.7.6"
  }
 },
 "nbformat": 4,
 "nbformat_minor": 4
}
