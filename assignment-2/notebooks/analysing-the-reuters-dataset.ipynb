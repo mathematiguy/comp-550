{
 "cells": [
  {
   "cell_type": "markdown",
   "id": "c0118b1c-03e5-4f2d-9140-46abcd319321",
   "metadata": {},
   "source": [
    "# Analysing the reuters dataset"
   ]
  },
  {
   "cell_type": "code",
   "execution_count": 7,
   "id": "b0a5de78-32a2-498b-bdc3-6291b1c25e9c",
   "metadata": {},
   "outputs": [],
   "source": [
    "import nltk\n",
    "from nltk.corpus import stopwords, reuters\n",
    "from nltk.stem import WordNetLemmatizer\n",
    "\n",
    "lemmatizer = WordNetLemmatizer()\n",
    "stop_words = set(stopwords.words('english'))"
   ]
  },
  {
   "cell_type": "code",
   "execution_count": 15,
   "id": "5e60dc1b-f972-42bb-be5e-0a4cafbcfedb",
   "metadata": {},
   "outputs": [],
   "source": [
    "def preprocess(text):\n",
    "    sents = nltk.sent_tokenize(text)\n",
    "    processed_sents = []\n",
    "    for sent in sents:\n",
    "        tokens = nltk.word_tokenize(sent)\n",
    "        lemmatized_tokens = [lemmatizer.lemmatize(token.lower()) for token in tokens if token.isalnum() and token not in stop_words]\n",
    "        processed_sents.append(' '.join(lemmatized_tokens))\n",
    "    return processed_sents"
   ]
  },
  {
   "cell_type": "code",
   "execution_count": 16,
   "id": "ae6d834b-1ffa-4811-816d-50f0bec0c19a",
   "metadata": {},
   "outputs": [],
   "source": [
    "preprocessed_texts = [preprocess(reuters.raw(fileid)) for fileid in reuters.fileids()]"
   ]
  },
  {
   "cell_type": "code",
   "execution_count": null,
   "id": "25832322-3cdb-4015-a51e-befe2afa289a",
   "metadata": {},
   "outputs": [],
   "source": []
  }
 ],
 "metadata": {
  "kernelspec": {
   "display_name": "Python 3 (ipykernel)",
   "language": "python",
   "name": "python3"
  },
  "language_info": {
   "codemirror_mode": {
    "name": "ipython",
    "version": 3
   },
   "file_extension": ".py",
   "mimetype": "text/x-python",
   "name": "python",
   "nbconvert_exporter": "python",
   "pygments_lexer": "ipython3",
   "version": "3.11.6"
  }
 },
 "nbformat": 4,
 "nbformat_minor": 5
}
